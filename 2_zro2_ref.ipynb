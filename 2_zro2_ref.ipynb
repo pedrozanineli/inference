{
 "cells": [
  {
   "cell_type": "code",
   "execution_count": 1,
   "metadata": {},
   "outputs": [],
   "source": [
    "import os\n",
    "import numpy as np\n",
    "import pandas as pd\n",
    "from ase.io import read"
   ]
  },
  {
   "cell_type": "code",
   "execution_count": 2,
   "metadata": {},
   "outputs": [],
   "source": [
    "zro2_files = os.listdir('../2_zr_o2/Dataset_ZrO2')"
   ]
  },
  {
   "cell_type": "code",
   "execution_count": 17,
   "metadata": {},
   "outputs": [],
   "source": [
    "dictionary_zro2 = {}\n",
    "sum = 0\n",
    "for file in zro2_files:\n",
    "    structures = read(f'../2_zr_o2/Dataset_ZrO2/{file}',index=':')\n",
    "    for structure in range(len(structures)):\n",
    "        dictionary_zro2[sum] = [file]\n",
    "        sum+=1"
   ]
  },
  {
   "cell_type": "code",
   "execution_count": 18,
   "metadata": {},
   "outputs": [],
   "source": [
    "for key,value in dictionary_zro2.items():\n",
    "    \n",
    "    value = value[0]\n",
    "    if value[0] == 'w': geometry = 'wire'\n",
    "    elif value[0] == 's': geometry = 'slab'\n",
    "    elif value[0] == 'b': geometry = 'bulk'\n",
    "    elif value[0] == 'n': geometry = 'neck'\n",
    "    elif value[0] == 'p': geometry = 'particle'\n",
    "    else: geometry = 'unknown'\n",
    "\n",
    "    if geometry == 'unknown': print(key)\n",
    "\n",
    "    dictionary_zro2[key].append(geometry)"
   ]
  },
  {
   "cell_type": "code",
   "execution_count": 21,
   "metadata": {},
   "outputs": [
    {
     "data": {
      "text/plain": [
       "{'bulk', 'neck', 'particle', 'slab', 'wire'}"
      ]
     },
     "execution_count": 21,
     "metadata": {},
     "output_type": "execute_result"
    }
   ],
   "source": [
    "set([i[1] for i in dictionary_zro2.values()])"
   ]
  },
  {
   "cell_type": "code",
   "execution_count": 22,
   "metadata": {},
   "outputs": [],
   "source": [
    "np.save('dictionary_zro2.npy',dictionary_zro2)"
   ]
  }
 ],
 "metadata": {
  "kernelspec": {
   "display_name": ".venv",
   "language": "python",
   "name": "python3"
  },
  "language_info": {
   "codemirror_mode": {
    "name": "ipython",
    "version": 3
   },
   "file_extension": ".py",
   "mimetype": "text/x-python",
   "name": "python",
   "nbconvert_exporter": "python",
   "pygments_lexer": "ipython3",
   "version": "3.9.6"
  }
 },
 "nbformat": 4,
 "nbformat_minor": 2
}
