{
 "cells": [
  {
   "cell_type": "code",
   "execution_count": 1,
   "metadata": {},
   "outputs": [],
   "source": [
    "import os\n",
    "import numpy as np\n",
    "import pandas as pd\n",
    "from tqdm import tqdm\n",
    "from ase.io import read"
   ]
  },
  {
   "cell_type": "code",
   "execution_count": 2,
   "metadata": {},
   "outputs": [],
   "source": [
    "zro2_files = os.listdir('../2_zr_o2/Dataset_ZrO2')"
   ]
  },
  {
   "cell_type": "code",
   "execution_count": 3,
   "metadata": {},
   "outputs": [
    {
     "name": "stderr",
     "output_type": "stream",
     "text": [
      "100%|██████████| 35/35 [00:06<00:00,  5.08it/s]\n"
     ]
    }
   ],
   "source": [
    "dictionary_zro2 = {}\n",
    "sum = 0\n",
    "\n",
    "for file in tqdm(range(len(zro2_files))):\n",
    "\n",
    "    structures = read(f'../2_zr_o2/Dataset_ZrO2/{zro2_files[file]}',index=':')\n",
    "\n",
    "    # print(file,zro2_files[file],len(structures))\n",
    "\n",
    "    for structure in structures:\n",
    "        \n",
    "        dictionary_zro2[sum] = [zro2_files[file],len(structure)]\n",
    "        sum+=1"
   ]
  },
  {
   "cell_type": "code",
   "execution_count": 4,
   "metadata": {},
   "outputs": [],
   "source": [
    "for key,value in dictionary_zro2.items():\n",
    "    \n",
    "    value = value[0]\n",
    "    if value[0] == 'w': geometry = 'wire'\n",
    "    elif value[0] == 's': geometry = 'slab'\n",
    "    elif value[0] == 'b': geometry = 'bulk'\n",
    "    elif value[0] == 'n': geometry = 'neck'\n",
    "    elif value[0] == 'p': geometry = 'particle'\n",
    "    else: geometry = 'unknown'\n",
    "\n",
    "    if geometry == 'unknown': print(key)\n",
    "\n",
    "    aux = dictionary_zro2[key][1]\n",
    "    dictionary_zro2[key][1] = geometry\n",
    "    dictionary_zro2[key].append(aux)"
   ]
  },
  {
   "cell_type": "code",
   "execution_count": 5,
   "metadata": {},
   "outputs": [
    {
     "name": "stdout",
     "output_type": "stream",
     "text": [
      "{'slab', 'neck', 'wire', 'bulk', 'particle'}\n",
      "{96, 480, 288, 72, 74, 107, 12, 240, 17, 18, 56, 282, 59, 60, 95}\n"
     ]
    }
   ],
   "source": [
    "print(set([i[1] for i in dictionary_zro2.values()]))\n",
    "print(set([i[2] for i in dictionary_zro2.values()]))"
   ]
  },
  {
   "cell_type": "code",
   "execution_count": 6,
   "metadata": {},
   "outputs": [],
   "source": [
    "np.save('dictionary_zro2.npy',dictionary_zro2)"
   ]
  }
 ],
 "metadata": {
  "kernelspec": {
   "display_name": ".venv",
   "language": "python",
   "name": "python3"
  },
  "language_info": {
   "codemirror_mode": {
    "name": "ipython",
    "version": 3
   },
   "file_extension": ".py",
   "mimetype": "text/x-python",
   "name": "python",
   "nbconvert_exporter": "python",
   "pygments_lexer": "ipython3",
   "version": "3.9.6"
  }
 },
 "nbformat": 4,
 "nbformat_minor": 2
}
