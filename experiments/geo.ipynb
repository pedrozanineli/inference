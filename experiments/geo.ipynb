{
 "cells": [
  {
   "cell_type": "code",
   "execution_count": 18,
   "id": "04521467",
   "metadata": {},
   "outputs": [],
   "source": [
    "import pickle\n",
    "import os, sys\n",
    "import subprocess\n",
    "import pandas as pd\n",
    "import streamlit as st\n",
    "import matplotlib.pyplot as plt\n",
    "import plotly.graph_objects as go\n",
    "\n",
    "os.chdir('..')\n",
    "\n",
    "from modules.eval import load,forces_load,eval_report"
   ]
  },
  {
   "cell_type": "code",
   "execution_count": null,
   "id": "cf22dea4",
   "metadata": {},
   "outputs": [],
   "source": [
    "def load_module(path,prop):\n",
    "    dft,ml = load(f'{path}/dft_{prop}.pkl'),load(f'{path}/predicted_{prop}.pkl')\n",
    "    return [ml,dft]\n",
    "\n",
    "def prop_dict(structures,prop):\n",
    "\n",
    "    values_dict,metrics_dict = {},{}\n",
    "\n",
    "    for struc,dft,ml in zip(structures,prop[0],prop[1]):\n",
    "        if struc[0] not in values_dict:\n",
    "            values_dict[struc[0]] = [[dft],[ml]]\n",
    "        else:\n",
    "            values_dict[struc[0]][0].append(dft)\n",
    "            values_dict[struc[0]][1].append(ml)\n",
    "    \n",
    "    for key,value in values_dict.items():\n",
    "\n",
    "        e_r2,e_mae,e_rmse = eval_report(value[0],value[1])\n",
    "        metrics_dict[key] = [e_r2,e_mae,e_rmse]\n",
    "    \n",
    "    return metrics_dict"
   ]
  },
  {
   "cell_type": "code",
   "execution_count": 11,
   "id": "928a9648",
   "metadata": {},
   "outputs": [],
   "source": [
    "path = '/home/p.zanineli/work/inference/experiments/zirconium-dioxide/results'\n",
    "mlips = os.listdir(path)\n",
    "\n",
    "if './ipycheckpoints' in mlips: mlips.remove('./ipycheckpoints')\n",
    "if 'metrics.csv' in mlips: mlips.remove('metrics.csv')\n",
    "if 'emissions' in mlips: mlips.remove('emissions')"
   ]
  },
  {
   "cell_type": "code",
   "execution_count": 34,
   "id": "525a458f",
   "metadata": {},
   "outputs": [],
   "source": [
    "for mlip in mlips:\n",
    "    models = os.listdir(f'{path}/{mlip}')\n",
    "    \n",
    "    for model in models:\n",
    "        \n",
    "        model_path = f'{path}/{mlip}/{model}'\n",
    "        \n",
    "        structures = load(f'{model_path}/structures.pkl')\n",
    "        energies = load_module(model_path,'energies')\n",
    "        forces = load_module(model_path,'forces')\n",
    "\n",
    "        force_modules = []\n",
    "        for force in forces:\n",
    "            force_module,x,y,z = forces_load(force)\n",
    "            force_modules.append(force_module)\n",
    "        \n",
    "        e_geometries = prop_dict(structures,energies)\n",
    "        f_geometries = prop_dict(structures,force_modules)\n",
    "\n",
    "        break"
   ]
  },
  {
   "cell_type": "code",
   "execution_count": 35,
   "id": "f0a9a7ce",
   "metadata": {},
   "outputs": [],
   "source": [
    "e_metrics_geometries = {}"
   ]
  },
  {
   "cell_type": "code",
   "execution_count": 36,
   "id": "1423b5b8",
   "metadata": {},
   "outputs": [],
   "source": [
    "for key in e_geometries.keys():\n",
    "    e_metrics_geometries[model] = e_geometries"
   ]
  },
  {
   "cell_type": "code",
   "execution_count": 74,
   "id": "be1e3b40",
   "metadata": {},
   "outputs": [
    {
     "data": {
      "text/plain": [
       "{'p': [0.9842830485, 0.07515504283570211, 0.08005253870606151],\n",
       " 'b': [-0.1134997669, 0.07899475946158897, 0.07925230217862105],\n",
       " 's': [-0.8671123985, 0.09816573832292504, 0.09866282049859178],\n",
       " 'n': [-29.3799284643, 0.11897236747204766, 0.1190138949510587],\n",
       " 'w': [0.7697538829, 0.09074019267812453, 0.09603717762272344]}"
      ]
     },
     "execution_count": 74,
     "metadata": {},
     "output_type": "execute_result"
    }
   ],
   "source": [
    "e_metrics_geometries[model]"
   ]
  },
  {
   "cell_type": "code",
   "execution_count": null,
   "id": "c300a086",
   "metadata": {},
   "outputs": [],
   "source": []
  },
  {
   "cell_type": "code",
   "execution_count": 85,
   "id": "c95ede9e",
   "metadata": {},
   "outputs": [],
   "source": [
    "di = set_final_metrics(e_metrics_geometries)"
   ]
  },
  {
   "cell_type": "code",
   "execution_count": 95,
   "id": "706c01d3",
   "metadata": {},
   "outputs": [
    {
     "data": {
      "text/plain": [
       "['Model', 'p', 'b', 's', 'n', 'w']"
      ]
     },
     "execution_count": 95,
     "metadata": {},
     "output_type": "execute_result"
    }
   ],
   "source": [
    "['Model'] + geometries"
   ]
  },
  {
   "cell_type": "code",
   "execution_count": 104,
   "id": "11b5927e",
   "metadata": {},
   "outputs": [],
   "source": [
    "keys = list(e_metrics_geometries.keys())\n",
    "geometries = list(e_metrics_geometries[keys[0]].keys())\n",
    "\n",
    "df = pd.DataFrame(di).T\n",
    "df.columns = geometries"
   ]
  },
  {
   "cell_type": "code",
   "execution_count": null,
   "id": "ee9b970c",
   "metadata": {},
   "outputs": [],
   "source": []
  }
 ],
 "metadata": {
  "kernelspec": {
   "display_name": "venv",
   "language": "python",
   "name": "python3"
  },
  "language_info": {
   "codemirror_mode": {
    "name": "ipython",
    "version": 3
   },
   "file_extension": ".py",
   "mimetype": "text/x-python",
   "name": "python",
   "nbconvert_exporter": "python",
   "pygments_lexer": "ipython3",
   "version": "3.9.21"
  }
 },
 "nbformat": 4,
 "nbformat_minor": 5
}
