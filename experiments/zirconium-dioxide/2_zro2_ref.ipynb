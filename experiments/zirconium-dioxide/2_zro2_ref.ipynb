{
 "cells": [
  {
   "cell_type": "code",
   "execution_count": 1,
   "metadata": {},
   "outputs": [],
   "source": [
    "import os\n",
    "import numpy as np\n",
    "import pandas as pd\n",
    "from tqdm import tqdm\n",
    "from ase.io import read"
   ]
  },
  {
   "cell_type": "code",
   "execution_count": 2,
   "metadata": {},
   "outputs": [],
   "source": [
    "zro2_files = os.listdir('../2_zr_o2/Dataset_ZrO2')"
   ]
  },
  {
   "cell_type": "code",
   "execution_count": 3,
   "metadata": {},
   "outputs": [],
   "source": [
    "def local_enviroment(mol):\n",
    "    from ase import Atoms\n",
    "    from ase.build import molecule\n",
    "    from ase.neighborlist import NeighborList\n",
    "\n",
    "    cutoff = 2\n",
    "    cutoffs = [cutoff] * len(mol)\n",
    "    nl = NeighborList(cutoffs, self_interaction=False, bothways=True)\n",
    "    nl.update(mol)\n",
    "    clusters = []\n",
    "    visited = set()\n",
    "\n",
    "    for i in range(len(mol)):\n",
    "        if i not in visited:\n",
    "            indices, _ = nl.get_neighbors(i)\n",
    "            cluster = set(indices) | {i}\n",
    "            clusters.append(cluster)\n",
    "            visited.update(cluster)\n",
    "\n",
    "    # print(f\"Número de estruturas dentro do cutoff {cutoff} Å: {len(clusters)}\")\n",
    "    # for idx, cluster in enumerate(clusters):\n",
    "    #     print(f\"Cluster {idx + 1}: {[mol.symbols[i] for i in cluster]}\")\n",
    "    \n",
    "    return clusters"
   ]
  },
  {
   "cell_type": "code",
   "execution_count": 13,
   "metadata": {},
   "outputs": [
    {
     "name": "stderr",
     "output_type": "stream",
     "text": [
      "100%|██████████| 35/35 [01:06<00:00,  1.90s/it]\n"
     ]
    }
   ],
   "source": [
    "dictionary_zro2 = {}\n",
    "sum = 0\n",
    "\n",
    "for file in tqdm(range(len(zro2_files))):\n",
    "\n",
    "    structures = read(f'../2_zr_o2/Dataset_ZrO2/{zro2_files[file]}',index=':')\n",
    "\n",
    "    for structure in structures:\n",
    "        \n",
    "        clusters = local_enviroment(structure)\n",
    "        local_env,lclusters = 0,len(clusters)\n",
    "        \n",
    "        for i in range(lclusters): local_env += len(clusters[i])\n",
    "        local_env = local_env/lclusters\n",
    "\n",
    "        dictionary_zro2[sum] = [zro2_files[file],local_env]\n",
    "        sum+=1"
   ]
  },
  {
   "cell_type": "code",
   "execution_count": 14,
   "metadata": {},
   "outputs": [],
   "source": [
    "for key,value in dictionary_zro2.items():\n",
    "    \n",
    "    value = value[0]\n",
    "    if value[0] == 'w': geometry = 'wire'\n",
    "    elif value[0] == 's': geometry = 'slab'\n",
    "    elif value[0] == 'b': geometry = 'bulk'\n",
    "    elif value[0] == 'n': geometry = 'neck'\n",
    "    elif value[0] == 'p': geometry = 'particle'\n",
    "    else: geometry = 'unknown'\n",
    "\n",
    "    if geometry == 'unknown': print(key)\n",
    "\n",
    "    aux = dictionary_zro2[key][1]\n",
    "    dictionary_zro2[key][1] = geometry\n",
    "    dictionary_zro2[key].append(aux)"
   ]
  },
  {
   "cell_type": "code",
   "execution_count": 15,
   "metadata": {},
   "outputs": [
    {
     "name": "stdout",
     "output_type": "stream",
     "text": [
      "{'wire', 'bulk', 'neck', 'particle', 'slab'}\n"
     ]
    }
   ],
   "source": [
    "print(set([i[1] for i in dictionary_zro2.values()]))"
   ]
  },
  {
   "cell_type": "code",
   "execution_count": 17,
   "metadata": {},
   "outputs": [],
   "source": [
    "np.save('dictionary_zro2.npy',dictionary_zro2)"
   ]
  }
 ],
 "metadata": {
  "kernelspec": {
   "display_name": ".venv",
   "language": "python",
   "name": "python3"
  },
  "language_info": {
   "codemirror_mode": {
    "name": "ipython",
    "version": 3
   },
   "file_extension": ".py",
   "mimetype": "text/x-python",
   "name": "python",
   "nbconvert_exporter": "python",
   "pygments_lexer": "ipython3",
   "version": "3.9.6"
  }
 },
 "nbformat": 4,
 "nbformat_minor": 2
}
