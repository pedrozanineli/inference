{
 "cells": [
  {
   "cell_type": "code",
   "execution_count": 1,
   "id": "b88eeed6-3fd8-43ca-902a-18b1077b38a6",
   "metadata": {},
   "outputs": [],
   "source": [
    "import os;\n",
    "if os.getcwd()[-9:] != 'inference': os.chdir('..')\n",
    "\n",
    "from modules.eval import *\n",
    "from modules.inference import inference\n",
    "from modules.calculator import Calculator"
   ]
  },
  {
   "cell_type": "code",
   "execution_count": 12,
   "id": "f1e9dba1-cbc5-4f5a-b6b4-3dd5f0469b85",
   "metadata": {},
   "outputs": [
    {
     "name": "stdout",
     "output_type": "stream",
     "text": [
      "\n",
      "        list of supported calculators and models\n",
      "        last updated march 26th\n",
      "\n",
      "        1. \"deepmd\": DPA3-v2-OpenLAM (default), DPA3-v2-MPtrj\n",
      "        2. \"fair-chem\": eSEN-30M-OAM, eSEN-30M-MP, eqV2 M (default), eqV2 S DeNS\n",
      "        3. \"grace\": GRACE-2L-OAM (default), GRACE-1L-OAM, GRACE-2L-MPtrj        \n",
      "        4. \"mace\": MACE-MPA-0 (default), MACE-MP-0\n",
      "        5. \"mattersim\": MatterSim-v1.0.0-5M\n",
      "        6. \"orb\": ORB (default), ORB MPTrj\n",
      "        7. \"sevenn\": SevenNet-MF-ompa (default), SevenNet-l3i5\n",
      "        \n",
      "        usage:\n",
      "        > calc = Calculator.get_calculator(\"deepmd\", model_name=\"DPA3-v2-MPtrj\")\n",
      "        > calc = Calculator.get_calculator(\"mace\")        \n",
      "        \n"
     ]
    }
   ],
   "source": [
    "Calculator.help()"
   ]
  },
  {
   "cell_type": "code",
   "execution_count": 3,
   "id": "dc7e6564-fd18-4044-87cd-22a094361637",
   "metadata": {},
   "outputs": [],
   "source": [
    "full_models = {\n",
    "    \"deepmd\": ['DPA3-v2-OpenLAM', 'DPA3-v2-MPtrj'],\n",
    "    \"fair-chem\": ['eSEN-30M-OAM', 'eSEN-30M-MP', 'eqV2 M', 'eqV2 S DeNS'],\n",
    "    \"grace\": ['GRACE-2L-OAM (default)', 'GRACE-1L-OAM', 'GRACE-2L-MPtrj'],\n",
    "    \"mace\": ['MACE-MPA-0', 'MACE-MP-0'],\n",
    "    \"mattersim\": ['MatterSim-v1.0.0-5M'],\n",
    "    \"orb\": ['ORB', 'ORB MPTrj'],\n",
    "    \"sevenn\": ['SevenNet-MF-ompa', 'SevenNet-l3i5'],\n",
    "}"
   ]
  },
  {
   "cell_type": "code",
   "execution_count": 7,
   "id": "8938cdb0-f0fd-4b7d-b0fb-3c0f41a53cb1",
   "metadata": {},
   "outputs": [
    {
     "name": "stdout",
     "output_type": "stream",
     "text": [
      "deepmd DPA3-v2-OpenLAM\n",
      "deepmd DPA3-v2-MPtrj\n",
      "fair-chem eSEN-30M-OAM\n",
      "fair-chem eSEN-30M-MP\n",
      "fair-chem eqV2 M\n",
      "fair-chem eqV2 S DeNS\n",
      "grace GRACE-2L-OAM (default)\n",
      "grace GRACE-1L-OAM\n",
      "grace GRACE-2L-MPtrj\n",
      "mace MACE-MPA-0\n",
      "mace MACE-MP-0\n",
      "mattersim MatterSim-v1.0.0-5M\n",
      "orb ORB\n",
      "orb ORB MPTrj\n",
      "sevenn SevenNet-MF-ompa\n",
      "sevenn SevenNet-l3i5\n"
     ]
    }
   ],
   "source": [
    "for calculator in full_models:\n",
    "\n",
    "    for model in full_models[calculator]:\n",
    "\n",
    "        print(calculator,model)\n",
    "        \n",
    "        # calc = Calculator.get_calculator(calculator, model_name=model)\n",
    "        # inference(path,calculator,model=None,track=False)"
   ]
  },
  {
   "cell_type": "code",
   "execution_count": 17,
   "id": "68b8caf1-c58c-49af-81b3-63cba2c44ddf",
   "metadata": {},
   "outputs": [
    {
     "name": "stdout",
     "output_type": "stream",
     "text": [
      "no change     /home/p.zanineli/miniconda3/condabin/conda\n",
      "no change     /home/p.zanineli/miniconda3/bin/conda\n",
      "no change     /home/p.zanineli/miniconda3/bin/conda-env\n",
      "no change     /home/p.zanineli/miniconda3/bin/activate\n",
      "no change     /home/p.zanineli/miniconda3/bin/deactivate\n",
      "no change     /home/p.zanineli/miniconda3/etc/profile.d/conda.sh\n",
      "no change     /home/p.zanineli/miniconda3/etc/fish/conf.d/conda.fish\n",
      "no change     /home/p.zanineli/miniconda3/shell/condabin/Conda.psm1\n",
      "no change     /home/p.zanineli/miniconda3/shell/condabin/conda-hook.ps1\n",
      "no change     /home/p.zanineli/miniconda3/lib/python3.12/site-packages/xontrib/conda.xsh\n",
      "no change     /home/p.zanineli/miniconda3/etc/profile.d/conda.csh\n",
      "no change     /home/p.zanineli/.bashrc\n",
      "No action taken.\n"
     ]
    },
    {
     "name": "stderr",
     "output_type": "stream",
     "text": [
      "\n",
      "CondaError: Run 'conda init' before 'conda deactivate'\n",
      "\n"
     ]
    },
    {
     "data": {
      "text/plain": [
       "CompletedProcess(args='conda init && conda deactivate', returncode=1)"
      ]
     },
     "execution_count": 17,
     "metadata": {},
     "output_type": "execute_result"
    }
   ],
   "source": [
    "import subprocess\n",
    "subprocess.run('conda init && conda deactivate', shell=True)"
   ]
  },
  {
   "cell_type": "code",
   "execution_count": null,
   "id": "2cb94288-af8b-49eb-baa9-b0858833b90f",
   "metadata": {},
   "outputs": [],
   "source": []
  }
 ],
 "metadata": {
  "kernelspec": {
   "display_name": "venv",
   "language": "python",
   "name": "venv"
  },
  "language_info": {
   "codemirror_mode": {
    "name": "ipython",
    "version": 3
   },
   "file_extension": ".py",
   "mimetype": "text/x-python",
   "name": "python",
   "nbconvert_exporter": "python",
   "pygments_lexer": "ipython3",
   "version": "3.9.21"
  }
 },
 "nbformat": 4,
 "nbformat_minor": 5
}
